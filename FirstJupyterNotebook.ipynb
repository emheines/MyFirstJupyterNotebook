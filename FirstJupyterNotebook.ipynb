{
 "cells": [
  {
   "cell_type": "code",
   "execution_count": null,
   "id": "a551c551",
   "metadata": {},
   "outputs": [],
   "source": [
    "print(\"Hello World!\")"
   ]
  },
  {
   "cell_type": "code",
   "execution_count": null,
   "id": "ab9dd142",
   "metadata": {},
   "outputs": [],
   "source": [
    "import time\n",
    "time.sleep(4)"
   ]
  },
  {
   "cell_type": "code",
   "execution_count": null,
   "id": "44754130",
   "metadata": {},
   "outputs": [],
   "source": [
    "def say_hello(name):\n",
    "    return 'Hello, {}'.format(name)"
   ]
  },
  {
   "cell_type": "code",
   "execution_count": 14,
   "id": "b821721e",
   "metadata": {},
   "outputs": [
    {
     "data": {
      "text/plain": [
       "'Hello, Emily'"
      ]
     },
     "execution_count": 14,
     "metadata": {},
     "output_type": "execute_result"
    }
   ],
   "source": [
    "say_hello('Emily')"
   ]
  },
  {
   "cell_type": "code",
   "execution_count": null,
   "id": "497fabe9",
   "metadata": {},
   "outputs": [],
   "source": [
    "num1 = 10\n",
    "num2 = 7"
   ]
  },
  {
   "cell_type": "code",
   "execution_count": null,
   "id": "eab9aed2",
   "metadata": {},
   "outputs": [],
   "source": [
    "x = num1 - num2\n",
    "print(x)"
   ]
  },
  {
   "cell_type": "markdown",
   "id": "a43ac398",
   "metadata": {},
   "source": [
    "# Heading 1\n",
    "## Heading 2\n",
    "**Bold text** __Bold text__\n",
    "*Italic* _italic_\n",
    "create a list:\n",
    "* item 1\n",
    "* item 2\n",
    "numbered list:\n",
    "1. item 1\n",
    "2. item 2\n",
    "\n",
    "[this is a hyperlink](http://www.tlu.edu)"
   ]
  },
  {
   "cell_type": "code",
   "execution_count": null,
   "id": "4f801521",
   "metadata": {},
   "outputs": [],
   "source": [
    "import numpy as np"
   ]
  },
  {
   "cell_type": "code",
   "execution_count": null,
   "id": "e41a6871",
   "metadata": {},
   "outputs": [],
   "source": [
    "def square(x):\n",
    "    return x*x"
   ]
  },
  {
   "cell_type": "code",
   "execution_count": null,
   "id": "b671fca0",
   "metadata": {},
   "outputs": [],
   "source": [
    "x = np.random.randint(1,10)\n",
    "y = square(x)\n",
    "print('%d squared is: %d' % (x,y))"
   ]
  },
  {
   "cell_type": "code",
   "execution_count": null,
   "id": "f033b72f",
   "metadata": {},
   "outputs": [],
   "source": []
  }
 ],
 "metadata": {
  "kernelspec": {
   "display_name": "Python 3 (ipykernel)",
   "language": "python",
   "name": "python3"
  },
  "language_info": {
   "codemirror_mode": {
    "name": "ipython",
    "version": 3
   },
   "file_extension": ".py",
   "mimetype": "text/x-python",
   "name": "python",
   "nbconvert_exporter": "python",
   "pygments_lexer": "ipython3",
   "version": "3.9.7"
  }
 },
 "nbformat": 4,
 "nbformat_minor": 5
}
